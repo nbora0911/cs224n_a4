{
 "cells": [
  {
   "cell_type": "code",
   "execution_count": 108,
   "metadata": {},
   "outputs": [],
   "source": [
    "import torch\n",
    "import pandas as pd\n",
    "from nltk.translate.bleu_score import corpus_bleu, sentence_bleu\n",
    "import matplotlib.pyplot as plt\n",
    "%matplotlib inline\n",
    "pd.set_option(\"display.max_colwidth\", 1000)"
   ]
  },
  {
   "cell_type": "code",
   "execution_count": 89,
   "metadata": {},
   "outputs": [],
   "source": [
    "!pip install matplotlib --quiet"
   ]
  },
  {
   "cell_type": "code",
   "execution_count": 14,
   "metadata": {},
   "outputs": [
    {
     "name": "stdout",
     "output_type": "stream",
     "text": [
      "gradescope_test_outputs.txt  test_outputs.txt\r\n"
     ]
    }
   ],
   "source": [
    "ls assignment4/outputs/"
   ]
  },
  {
   "cell_type": "code",
   "execution_count": 66,
   "metadata": {},
   "outputs": [],
   "source": [
    "source_en = open(\"assignment4/en_es_data/test.en\", \"r\")\n",
    "pred_en = open(\"assignment4/outputs/test_outputs.txt\", \"r\")\n",
    "samples = []\n",
    "for src, prd in zip(source_en, pred_en):\n",
    "    record = {}\n",
    "    record[\"src\"] = src.split()\n",
    "    record[\"prd\"] = prd.split()\n",
    "    samples.append(record)\n",
    "    \n",
    "df = pd.DataFrame(samples)"
   ]
  },
  {
   "cell_type": "code",
   "execution_count": 69,
   "metadata": {},
   "outputs": [
    {
     "data": {
      "text/html": [
       "<div>\n",
       "<style scoped>\n",
       "    .dataframe tbody tr th:only-of-type {\n",
       "        vertical-align: middle;\n",
       "    }\n",
       "\n",
       "    .dataframe tbody tr th {\n",
       "        vertical-align: top;\n",
       "    }\n",
       "\n",
       "    .dataframe thead th {\n",
       "        text-align: right;\n",
       "    }\n",
       "</style>\n",
       "<table border=\"1\" class=\"dataframe\">\n",
       "  <thead>\n",
       "    <tr style=\"text-align: right;\">\n",
       "      <th></th>\n",
       "      <th>src</th>\n",
       "      <th>prd</th>\n",
       "    </tr>\n",
       "  </thead>\n",
       "  <tbody>\n",
       "    <tr>\n",
       "      <th>0</th>\n",
       "      <td>[You, know,, what, I, do, is, write, for, chil...</td>\n",
       "      <td>[You, know, what, I, do, is, to, write, for, k...</td>\n",
       "    </tr>\n",
       "    <tr>\n",
       "      <th>1</th>\n",
       "      <td>[And, I, always, tell, people, that, I, don't,...</td>\n",
       "      <td>[And, I, always, tell, the, people, I, don't, ...</td>\n",
       "    </tr>\n",
       "    <tr>\n",
       "      <th>2</th>\n",
       "      <td>[You, can, have, me, as, a, farmer,, or, in, l...</td>\n",
       "      <td>[I, can, tell, you, as, a, farmer,, or, with, ...</td>\n",
       "    </tr>\n",
       "    <tr>\n",
       "      <th>3</th>\n",
       "      <td>[I'm, here, today, to, talk, to, you, about, c...</td>\n",
       "      <td>[I'm, here, to, talk, about, circles, and, &lt;unk&gt;]</td>\n",
       "    </tr>\n",
       "    <tr>\n",
       "      <th>4</th>\n",
       "      <td>[And, you, know,, an, epiphany, is, usually, s...</td>\n",
       "      <td>[And, you, know, that, an, epiphany, is, gener...</td>\n",
       "    </tr>\n",
       "  </tbody>\n",
       "</table>\n",
       "</div>"
      ],
      "text/plain": [
       "                                                 src  \\\n",
       "0  [You, know,, what, I, do, is, write, for, chil...   \n",
       "1  [And, I, always, tell, people, that, I, don't,...   \n",
       "2  [You, can, have, me, as, a, farmer,, or, in, l...   \n",
       "3  [I'm, here, today, to, talk, to, you, about, c...   \n",
       "4  [And, you, know,, an, epiphany, is, usually, s...   \n",
       "\n",
       "                                                 prd  \n",
       "0  [You, know, what, I, do, is, to, write, for, k...  \n",
       "1  [And, I, always, tell, the, people, I, don't, ...  \n",
       "2  [I, can, tell, you, as, a, farmer,, or, with, ...  \n",
       "3  [I'm, here, to, talk, about, circles, and, <unk>]  \n",
       "4  [And, you, know, that, an, epiphany, is, gener...  "
      ]
     },
     "execution_count": 69,
     "metadata": {},
     "output_type": "execute_result"
    }
   ],
   "source": [
    "df.head()"
   ]
  },
  {
   "cell_type": "code",
   "execution_count": 72,
   "metadata": {},
   "outputs": [
    {
     "name": "stderr",
     "output_type": "stream",
     "text": [
      "/Users/neha.bora/anaconda3/envs/local_nmt/lib/python3.6/site-packages/nltk/translate/bleu_score.py:523: UserWarning: \n",
      "The hypothesis contains 0 counts of 4-gram overlaps.\n",
      "Therefore the BLEU score evaluates to 0, independently of\n",
      "how many N-gram overlaps of lower order it contains.\n",
      "Consider using lower n-gram order or use SmoothingFunction()\n",
      "  warnings.warn(_msg)\n",
      "/Users/neha.bora/anaconda3/envs/local_nmt/lib/python3.6/site-packages/nltk/translate/bleu_score.py:523: UserWarning: \n",
      "The hypothesis contains 0 counts of 3-gram overlaps.\n",
      "Therefore the BLEU score evaluates to 0, independently of\n",
      "how many N-gram overlaps of lower order it contains.\n",
      "Consider using lower n-gram order or use SmoothingFunction()\n",
      "  warnings.warn(_msg)\n",
      "/Users/neha.bora/anaconda3/envs/local_nmt/lib/python3.6/site-packages/nltk/translate/bleu_score.py:523: UserWarning: \n",
      "The hypothesis contains 0 counts of 2-gram overlaps.\n",
      "Therefore the BLEU score evaluates to 0, independently of\n",
      "how many N-gram overlaps of lower order it contains.\n",
      "Consider using lower n-gram order or use SmoothingFunction()\n",
      "  warnings.warn(_msg)\n"
     ]
    }
   ],
   "source": [
    "df[\"sentence_bleu\"] = df.apply(lambda row: sentence_bleu([row[\"src\"]], row[\"prd\"]), axis=1)"
   ]
  },
  {
   "cell_type": "code",
   "execution_count": 86,
   "metadata": {},
   "outputs": [],
   "source": [
    "df[\"en_length\"] = df[\"src\"].apply(lambda x: len(x))\n",
    "df[\"bleu_bkt\"] = pd.cut(df.sentence_bleu, bins=10, labels=[0,1,2,3,4,5,6,7,8,9])"
   ]
  },
  {
   "cell_type": "code",
   "execution_count": 121,
   "metadata": {},
   "outputs": [
    {
     "data": {
      "text/html": [
       "<div>\n",
       "<style scoped>\n",
       "    .dataframe tbody tr th:only-of-type {\n",
       "        vertical-align: middle;\n",
       "    }\n",
       "\n",
       "    .dataframe tbody tr th {\n",
       "        vertical-align: top;\n",
       "    }\n",
       "\n",
       "    .dataframe thead th {\n",
       "        text-align: right;\n",
       "    }\n",
       "</style>\n",
       "<table border=\"1\" class=\"dataframe\">\n",
       "  <thead>\n",
       "    <tr style=\"text-align: right;\">\n",
       "      <th></th>\n",
       "      <th>src</th>\n",
       "      <th>prd</th>\n",
       "      <th>sentence_bleu</th>\n",
       "      <th>en_length</th>\n",
       "      <th>bleu_bkt</th>\n",
       "    </tr>\n",
       "  </thead>\n",
       "  <tbody>\n",
       "    <tr>\n",
       "      <th>1608</th>\n",
       "      <td>[But, these, apps, are, like, little, digital, reminders, that, we're, not, just, consumers,, and, we're, not, just, consumers, of, government,, putting, in, our, taxes, and, getting, back, services.]</td>\n",
       "      <td>[But, these, applications, are, like, digital, &lt;unk&gt;, that, we, are, not, only, consumers,, we're, not, only, consumers, of, government, we, pay, taxes, and, we, get, services.]</td>\n",
       "      <td>8.050112e-155</td>\n",
       "      <td>28</td>\n",
       "      <td>0</td>\n",
       "    </tr>\n",
       "    <tr>\n",
       "      <th>1428</th>\n",
       "      <td>[Like, the, concrete, block,, the, transistor, allows, you, to, build, much, larger,, more, complex, circuits,, one, brick, at, a, time.]</td>\n",
       "      <td>[Just, like, the, block, of, concrete,, the, transistor, allows, to, create, a, much, bigger, and, more, complex,, a, brick, at, the, time.]</td>\n",
       "      <td>2.985703e-78</td>\n",
       "      <td>20</td>\n",
       "      <td>0</td>\n",
       "    </tr>\n",
       "    <tr>\n",
       "      <th>4544</th>\n",
       "      <td>[I, had, finally, gotten, my, chance, and, I, blew, it,, and, I, knew, I, would, never, get, invited, back.]</td>\n",
       "      <td>[I, had, my, opportunity, and, &lt;unk&gt;, I, knew, they, wouldn't, come, back, to, me.]</td>\n",
       "      <td>5.288646e-155</td>\n",
       "      <td>19</td>\n",
       "      <td>0</td>\n",
       "    </tr>\n",
       "    <tr>\n",
       "      <th>2048</th>\n",
       "      <td>[And, this, game, has, been, played, by, university, professors, and, so, forth.]</td>\n",
       "      <td>[They, have, played, with, this, college, professors, among, others.]</td>\n",
       "      <td>9.918892e-232</td>\n",
       "      <td>12</td>\n",
       "      <td>0</td>\n",
       "    </tr>\n",
       "    <tr>\n",
       "      <th>2741</th>\n",
       "      <td>[And, when, I, listened, to, her,, she, was, making, a, wheezy, sound.]</td>\n",
       "      <td>[I, heard, a, &lt;unk&gt;, sound.]</td>\n",
       "      <td>3.953974e-232</td>\n",
       "      <td>12</td>\n",
       "      <td>0</td>\n",
       "    </tr>\n",
       "    <tr>\n",
       "      <th>5964</th>\n",
       "      <td>[I, was, shocked, to, learn, that, many, well-meaning, programs, are, inadvertently, actually, making, the, situation, worse.]</td>\n",
       "      <td>[I, was, very, surprised, when, I, learned, that, a, lot, of, &lt;unk&gt;, programs, without, realizing, it,, &lt;unk&gt;, the, situation.]</td>\n",
       "      <td>5.186904e-155</td>\n",
       "      <td>16</td>\n",
       "      <td>0</td>\n",
       "    </tr>\n",
       "    <tr>\n",
       "      <th>2373</th>\n",
       "      <td>[And, they, actually, illuminate, your, way, through, the, rest, of, the, book.]</td>\n",
       "      <td>[And, actually,, they, light, your, way, into, what, subtraction, of, the, book.]</td>\n",
       "      <td>4.337580e-78</td>\n",
       "      <td>12</td>\n",
       "      <td>0</td>\n",
       "    </tr>\n",
       "    <tr>\n",
       "      <th>663</th>\n",
       "      <td>[And, I, think, what, is, remarkable, that, has, happened, over, the, past, couple, of, years, is, that,, over, the, past, couple, of, decades,, we, went, from, the, physical, world, to, the, digital, one.]</td>\n",
       "      <td>[And, I, think, the, remarkable, thing, that, has, happened, in, the, last, few, years, is, that,, in, the, last, two, decades,, we, spent, the, physical, world, in, the, digital, world.]</td>\n",
       "      <td>4.644519e-78</td>\n",
       "      <td>33</td>\n",
       "      <td>0</td>\n",
       "    </tr>\n",
       "    <tr>\n",
       "      <th>3089</th>\n",
       "      <td>[But, Western, governments, are, doing, it, to, themselves, as, well.]</td>\n",
       "      <td>[But, Western, governments, also, do, this, to, themselves.]</td>\n",
       "      <td>3.736372e-78</td>\n",
       "      <td>10</td>\n",
       "      <td>0</td>\n",
       "    </tr>\n",
       "    <tr>\n",
       "      <th>6841</th>\n",
       "      <td>[Take, the, armor, off., Be, yourself.]</td>\n",
       "      <td>[&lt;unk&gt;, the, &lt;unk&gt;, Be, yourself.]</td>\n",
       "      <td>7.600394e-155</td>\n",
       "      <td>6</td>\n",
       "      <td>0</td>\n",
       "    </tr>\n",
       "  </tbody>\n",
       "</table>\n",
       "</div>"
      ],
      "text/plain": [
       "                                                                                                                                                                                                                 src  \\\n",
       "1608        [But, these, apps, are, like, little, digital, reminders, that, we're, not, just, consumers,, and, we're, not, just, consumers, of, government,, putting, in, our, taxes, and, getting, back, services.]   \n",
       "1428                                                                       [Like, the, concrete, block,, the, transistor, allows, you, to, build, much, larger,, more, complex, circuits,, one, brick, at, a, time.]   \n",
       "4544                                                                                                    [I, had, finally, gotten, my, chance, and, I, blew, it,, and, I, knew, I, would, never, get, invited, back.]   \n",
       "2048                                                                                                                               [And, this, game, has, been, played, by, university, professors, and, so, forth.]   \n",
       "2741                                                                                                                                         [And, when, I, listened, to, her,, she, was, making, a, wheezy, sound.]   \n",
       "5964                                                                                  [I, was, shocked, to, learn, that, many, well-meaning, programs, are, inadvertently, actually, making, the, situation, worse.]   \n",
       "2373                                                                                                                                [And, they, actually, illuminate, your, way, through, the, rest, of, the, book.]   \n",
       "663   [And, I, think, what, is, remarkable, that, has, happened, over, the, past, couple, of, years, is, that,, over, the, past, couple, of, decades,, we, went, from, the, physical, world, to, the, digital, one.]   \n",
       "3089                                                                                                                                          [But, Western, governments, are, doing, it, to, themselves, as, well.]   \n",
       "6841                                                                                                                                                                         [Take, the, armor, off., Be, yourself.]   \n",
       "\n",
       "                                                                                                                                                                                              prd  \\\n",
       "1608            [But, these, applications, are, like, digital, <unk>, that, we, are, not, only, consumers,, we're, not, only, consumers, of, government, we, pay, taxes, and, we, get, services.]   \n",
       "1428                                                 [Just, like, the, block, of, concrete,, the, transistor, allows, to, create, a, much, bigger, and, more, complex,, a, brick, at, the, time.]   \n",
       "4544                                                                                                          [I, had, my, opportunity, and, <unk>, I, knew, they, wouldn't, come, back, to, me.]   \n",
       "2048                                                                                                                        [They, have, played, with, this, college, professors, among, others.]   \n",
       "2741                                                                                                                                                                 [I, heard, a, <unk>, sound.]   \n",
       "5964                                                              [I, was, very, surprised, when, I, learned, that, a, lot, of, <unk>, programs, without, realizing, it,, <unk>, the, situation.]   \n",
       "2373                                                                                                            [And, actually,, they, light, your, way, into, what, subtraction, of, the, book.]   \n",
       "663   [And, I, think, the, remarkable, thing, that, has, happened, in, the, last, few, years, is, that,, in, the, last, two, decades,, we, spent, the, physical, world, in, the, digital, world.]   \n",
       "3089                                                                                                                                 [But, Western, governments, also, do, this, to, themselves.]   \n",
       "6841                                                                                                                                                           [<unk>, the, <unk>, Be, yourself.]   \n",
       "\n",
       "      sentence_bleu  en_length bleu_bkt  \n",
       "1608  8.050112e-155         28        0  \n",
       "1428   2.985703e-78         20        0  \n",
       "4544  5.288646e-155         19        0  \n",
       "2048  9.918892e-232         12        0  \n",
       "2741  3.953974e-232         12        0  \n",
       "5964  5.186904e-155         16        0  \n",
       "2373   4.337580e-78         12        0  \n",
       "663    4.644519e-78         33        0  \n",
       "3089   3.736372e-78         10        0  \n",
       "6841  7.600394e-155          6        0  "
      ]
     },
     "execution_count": 121,
     "metadata": {},
     "output_type": "execute_result"
    }
   ],
   "source": [
    "df[df[\"bleu_bkt\"]==0].sort_values(by=\"sentence_bleu\", ascending=True).sample(10)"
   ]
  },
  {
   "cell_type": "code",
   "execution_count": 92,
   "metadata": {},
   "outputs": [
    {
     "data": {
      "text/plain": [
       "<matplotlib.axes._subplots.AxesSubplot at 0x1a30c0b9e8>"
      ]
     },
     "execution_count": 92,
     "metadata": {},
     "output_type": "execute_result"
    },
    {
     "data": {
      "image/png": "[encoded data removed]",
      "text/plain": [
       "<Figure size 432x288 with 1 Axes>"
      ]
     },
     "metadata": {
      "needs_background": "light"
     },
     "output_type": "display_data"
    }
   ],
   "source": [
    "df.sentence_bleu.hist()"
   ]
  },
  {
   "cell_type": "code",
   "execution_count": 100,
   "metadata": {},
   "outputs": [],
   "source": []
  },
  {
   "cell_type": "code",
   "execution_count": 118,
   "metadata": {},
   "outputs": [
    {
     "data": {
      "text/html": [
       "<div>\n",
       "<style scoped>\n",
       "    .dataframe tbody tr th:only-of-type {\n",
       "        vertical-align: middle;\n",
       "    }\n",
       "\n",
       "    .dataframe tbody tr th {\n",
       "        vertical-align: top;\n",
       "    }\n",
       "\n",
       "    .dataframe thead th {\n",
       "        text-align: right;\n",
       "    }\n",
       "</style>\n",
       "<table border=\"1\" class=\"dataframe\">\n",
       "  <thead>\n",
       "    <tr style=\"text-align: right;\">\n",
       "      <th></th>\n",
       "      <th>sentence_bleu</th>\n",
       "      <th>en_length</th>\n",
       "    </tr>\n",
       "    <tr>\n",
       "      <th>bleu_bkt</th>\n",
       "      <th></th>\n",
       "      <th></th>\n",
       "    </tr>\n",
       "  </thead>\n",
       "  <tbody>\n",
       "    <tr>\n",
       "      <th>0</th>\n",
       "      <td>0.000501</td>\n",
       "      <td>11.889708</td>\n",
       "    </tr>\n",
       "    <tr>\n",
       "      <th>1</th>\n",
       "      <td>0.161897</td>\n",
       "      <td>27.398887</td>\n",
       "    </tr>\n",
       "    <tr>\n",
       "      <th>2</th>\n",
       "      <td>0.250776</td>\n",
       "      <td>22.311475</td>\n",
       "    </tr>\n",
       "    <tr>\n",
       "      <th>3</th>\n",
       "      <td>0.349501</td>\n",
       "      <td>21.027431</td>\n",
       "    </tr>\n",
       "    <tr>\n",
       "      <th>4</th>\n",
       "      <td>0.444358</td>\n",
       "      <td>18.236794</td>\n",
       "    </tr>\n",
       "    <tr>\n",
       "      <th>5</th>\n",
       "      <td>0.543959</td>\n",
       "      <td>15.836310</td>\n",
       "    </tr>\n",
       "    <tr>\n",
       "      <th>6</th>\n",
       "      <td>0.645271</td>\n",
       "      <td>13.333333</td>\n",
       "    </tr>\n",
       "    <tr>\n",
       "      <th>7</th>\n",
       "      <td>0.739945</td>\n",
       "      <td>12.968421</td>\n",
       "    </tr>\n",
       "    <tr>\n",
       "      <th>8</th>\n",
       "      <td>0.838678</td>\n",
       "      <td>11.185185</td>\n",
       "    </tr>\n",
       "    <tr>\n",
       "      <th>9</th>\n",
       "      <td>0.995930</td>\n",
       "      <td>6.790698</td>\n",
       "    </tr>\n",
       "  </tbody>\n",
       "</table>\n",
       "</div>"
      ],
      "text/plain": [
       "          sentence_bleu  en_length\n",
       "bleu_bkt                          \n",
       "0              0.000501  11.889708\n",
       "1              0.161897  27.398887\n",
       "2              0.250776  22.311475\n",
       "3              0.349501  21.027431\n",
       "4              0.444358  18.236794\n",
       "5              0.543959  15.836310\n",
       "6              0.645271  13.333333\n",
       "7              0.739945  12.968421\n",
       "8              0.838678  11.185185\n",
       "9              0.995930   6.790698"
      ]
     },
     "execution_count": 118,
     "metadata": {},
     "output_type": "execute_result"
    }
   ],
   "source": [
    "df.groupby(\"bleu_bkt\")[[\"sentence_bleu\",\"en_length\"]].mean()"
   ]
  },
  {
   "cell_type": "code",
   "execution_count": 117,
   "metadata": {},
   "outputs": [
    {
     "data": {
      "text/html": [
       "<div>\n",
       "<style scoped>\n",
       "    .dataframe tbody tr th:only-of-type {\n",
       "        vertical-align: middle;\n",
       "    }\n",
       "\n",
       "    .dataframe tbody tr th {\n",
       "        vertical-align: top;\n",
       "    }\n",
       "\n",
       "    .dataframe thead th {\n",
       "        text-align: right;\n",
       "    }\n",
       "</style>\n",
       "<table border=\"1\" class=\"dataframe\">\n",
       "  <thead>\n",
       "    <tr style=\"text-align: right;\">\n",
       "      <th></th>\n",
       "      <th>sentence_bleu</th>\n",
       "      <th>en_length</th>\n",
       "    </tr>\n",
       "  </thead>\n",
       "  <tbody>\n",
       "    <tr>\n",
       "      <th>sentence_bleu</th>\n",
       "      <td>1.000000</td>\n",
       "      <td>0.127854</td>\n",
       "    </tr>\n",
       "    <tr>\n",
       "      <th>en_length</th>\n",
       "      <td>0.127854</td>\n",
       "      <td>1.000000</td>\n",
       "    </tr>\n",
       "  </tbody>\n",
       "</table>\n",
       "</div>"
      ],
      "text/plain": [
       "               sentence_bleu  en_length\n",
       "sentence_bleu       1.000000   0.127854\n",
       "en_length           0.127854   1.000000"
      ]
     },
     "execution_count": 117,
     "metadata": {},
     "output_type": "execute_result"
    }
   ],
   "source": [
    "df.corr()"
   ]
  },
  {
   "cell_type": "code",
   "execution_count": 122,
   "metadata": {},
   "outputs": [],
   "source": [
    "r1 = \"love can always find a way\".split()\n",
    "r2 = \"love makes anything possible\".split()\n",
    "c1 = \"the love can always do\".split()\n",
    "c2 = \"love can make anything possible\".split()"
   ]
  },
  {
   "cell_type": "code",
   "execution_count": 124,
   "metadata": {},
   "outputs": [
    {
     "name": "stderr",
     "output_type": "stream",
     "text": [
      "/Users/neha.bora/anaconda3/envs/local_nmt/lib/python3.6/site-packages/nltk/translate/bleu_score.py:523: UserWarning: \n",
      "The hypothesis contains 0 counts of 4-gram overlaps.\n",
      "Therefore the BLEU score evaluates to 0, independently of\n",
      "how many N-gram overlaps of lower order it contains.\n",
      "Consider using lower n-gram order or use SmoothingFunction()\n",
      "  warnings.warn(_msg)\n"
     ]
    },
    {
     "data": {
      "text/plain": [
       "0.5477225575051662"
      ]
     },
     "execution_count": 124,
     "metadata": {},
     "output_type": "execute_result"
    }
   ],
   "source": [
    "sentence_bleu([r1,r2], c1, weights=(0.5,0.5,0,0))"
   ]
  },
  {
   "cell_type": "code",
   "execution_count": 125,
   "metadata": {},
   "outputs": [
    {
     "name": "stderr",
     "output_type": "stream",
     "text": [
      "/Users/neha.bora/anaconda3/envs/local_nmt/lib/python3.6/site-packages/nltk/translate/bleu_score.py:523: UserWarning: \n",
      "The hypothesis contains 0 counts of 3-gram overlaps.\n",
      "Therefore the BLEU score evaluates to 0, independently of\n",
      "how many N-gram overlaps of lower order it contains.\n",
      "Consider using lower n-gram order or use SmoothingFunction()\n",
      "  warnings.warn(_msg)\n"
     ]
    },
    {
     "data": {
      "text/plain": [
       "0.6324555320336759"
      ]
     },
     "execution_count": 125,
     "metadata": {},
     "output_type": "execute_result"
    }
   ],
   "source": [
    "sentence_bleu([r1,r2], c2, weights=(0.5,0.5,0,0))"
   ]
  },
  {
   "cell_type": "code",
   "execution_count": 130,
   "metadata": {},
   "outputs": [
    {
     "data": {
      "text/plain": [
       "0.5477225575051662"
      ]
     },
     "execution_count": 130,
     "metadata": {},
     "output_type": "execute_result"
    }
   ],
   "source": [
    "import math\n",
    "math.exp(0.5*math.log(3/5) + 0.5*math.log(0.5))"
   ]
  },
  {
   "cell_type": "markdown",
   "metadata": {},
   "source": [
    "I think c2 is better translation than c1. I agree with BLEU score here"
   ]
  },
  {
   "cell_type": "code",
   "execution_count": 132,
   "metadata": {},
   "outputs": [
    {
     "name": "stderr",
     "output_type": "stream",
     "text": [
      "/Users/neha.bora/anaconda3/envs/local_nmt/lib/python3.6/site-packages/nltk/translate/bleu_score.py:523: UserWarning: \n",
      "The hypothesis contains 0 counts of 3-gram overlaps.\n",
      "Therefore the BLEU score evaluates to 0, independently of\n",
      "how many N-gram overlaps of lower order it contains.\n",
      "Consider using lower n-gram order or use SmoothingFunction()\n",
      "  warnings.warn(_msg)\n"
     ]
    },
    {
     "data": {
      "text/plain": [
       "(0.448437301984003, 0.25890539701513365)"
      ]
     },
     "execution_count": 132,
     "metadata": {},
     "output_type": "execute_result"
    }
   ],
   "source": [
    "sentence_bleu([r1], c1, weights=(0.5,0.5,0,0)) , sentence_bleu([r1], c2, weights=(0.5,0.5,0,0))"
   ]
  },
  {
   "cell_type": "markdown",
   "metadata": {},
   "source": [
    "Do not agree with the above BLEU score recommendation for better translation"
   ]
  },
  {
   "cell_type": "code",
   "execution_count": null,
   "metadata": {},
   "outputs": [],
   "source": []
  },
  {
   "cell_type": "code",
   "execution_count": null,
   "metadata": {},
   "outputs": [],
   "source": []
  }
 ],
 "metadata": {
  "kernelspec": {
   "display_name": "Python 3",
   "language": "python",
   "name": "python3"
  },
  "language_info": {
   "codemirror_mode": {
    "name": "ipython",
    "version": 3
   },
   "file_extension": ".py",
   "mimetype": "text/x-python",
   "name": "python",
   "nbconvert_exporter": "python",
   "pygments_lexer": "ipython3",
   "version": "3.6.10"
  }
 },
 "nbformat": 4,
 "nbformat_minor": 4
}
