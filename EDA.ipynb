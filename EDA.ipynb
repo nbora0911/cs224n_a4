{
 "cells": [
  {
   "cell_type": "code",
   "execution_count": 1,
   "metadata": {},
   "outputs": [],
   "source": [
    "import torch\n",
    "import pandas as pd\n",
    "from nltk.translate.bleu_score import corpus_bleu, sentence_bleu\n",
    "import matplotlib.pyplot as plt\n",
    "%matplotlib inline\n",
    "pd.set_option(\"display.max_colwidth\", 1000)"
   ]
  },
  {
   "cell_type": "code",
   "execution_count": 89,
   "metadata": {},
   "outputs": [],
   "source": [
    "!pip install matplotlib --quiet"
   ]
  },
  {
   "cell_type": "code",
   "execution_count": 2,
   "metadata": {},
   "outputs": [
    {
     "name": "stdout",
     "output_type": "stream",
     "text": [
      "gradescope_test_outputs.txt  test_outputs.txt\r\n"
     ]
    }
   ],
   "source": [
    "ls assignment4/outputs/"
   ]
  },
  {
   "cell_type": "code",
   "execution_count": 3,
   "metadata": {},
   "outputs": [],
   "source": [
    "source_en = open(\"assignment4/en_es_data/test.en\", \"r\")\n",
    "pred_en = open(\"assignment4/outputs/test_outputs.txt\", \"r\")\n",
    "samples = []\n",
    "for src, prd in zip(source_en, pred_en):\n",
    "    record = {}\n",
    "    record[\"src\"] = src.split()\n",
    "    record[\"prd\"] = prd.split()\n",
    "    samples.append(record)\n",
    "    \n",
    "df = pd.DataFrame(samples)"
   ]
  },
  {
   "cell_type": "code",
   "execution_count": 4,
   "metadata": {},
   "outputs": [
    {
     "data": {
      "text/html": [
       "<div>\n",
       "<style scoped>\n",
       "    .dataframe tbody tr th:only-of-type {\n",
       "        vertical-align: middle;\n",
       "    }\n",
       "\n",
       "    .dataframe tbody tr th {\n",
       "        vertical-align: top;\n",
       "    }\n",
       "\n",
       "    .dataframe thead th {\n",
       "        text-align: right;\n",
       "    }\n",
       "</style>\n",
       "<table border=\"1\" class=\"dataframe\">\n",
       "  <thead>\n",
       "    <tr style=\"text-align: right;\">\n",
       "      <th></th>\n",
       "      <th>src</th>\n",
       "      <th>prd</th>\n",
       "    </tr>\n",
       "  </thead>\n",
       "  <tbody>\n",
       "    <tr>\n",
       "      <th>0</th>\n",
       "      <td>[You, know,, what, I, do, is, write, for, children,, and, I'm, probably, America's, most, widely, read, children's, author,, in, fact.]</td>\n",
       "      <td>[You, know, what, I, do, is, to, write, for, kids,, and, in, fact,, I, am, probably, the, author, for, kids,, you, read, in, the, U.S.]</td>\n",
       "    </tr>\n",
       "    <tr>\n",
       "      <th>1</th>\n",
       "      <td>[And, I, always, tell, people, that, I, don't, want, to, show, up, looking, like, a, scientist.]</td>\n",
       "      <td>[And, I, always, tell, the, people, I, don't, want, to, look, like, a, scientist.]</td>\n",
       "    </tr>\n",
       "    <tr>\n",
       "      <th>2</th>\n",
       "      <td>[You, can, have, me, as, a, farmer,, or, in, leathers,, and, no, one, has, ever, chose, farmer.]</td>\n",
       "      <td>[I, can, tell, you, as, a, farmer,, or, with, &lt;unk&gt;, and, never, nobody, has, chosen, a, farmer.]</td>\n",
       "    </tr>\n",
       "    <tr>\n",
       "      <th>3</th>\n",
       "      <td>[I'm, here, today, to, talk, to, you, about, circles, and, epiphanies.]</td>\n",
       "      <td>[I'm, here, to, talk, about, circles, and, &lt;unk&gt;]</td>\n",
       "    </tr>\n",
       "    <tr>\n",
       "      <th>4</th>\n",
       "      <td>[And, you, know,, an, epiphany, is, usually, something, you, find, that, you, dropped, someplace.]</td>\n",
       "      <td>[And, you, know, that, an, epiphany, is, generally, something, that, came, to, you, somewhere.]</td>\n",
       "    </tr>\n",
       "  </tbody>\n",
       "</table>\n",
       "</div>"
      ],
      "text/plain": [
       "                                                                                                                                       src  \\\n",
       "0  [You, know,, what, I, do, is, write, for, children,, and, I'm, probably, America's, most, widely, read, children's, author,, in, fact.]   \n",
       "1                                         [And, I, always, tell, people, that, I, don't, want, to, show, up, looking, like, a, scientist.]   \n",
       "2                                         [You, can, have, me, as, a, farmer,, or, in, leathers,, and, no, one, has, ever, chose, farmer.]   \n",
       "3                                                                  [I'm, here, today, to, talk, to, you, about, circles, and, epiphanies.]   \n",
       "4                                       [And, you, know,, an, epiphany, is, usually, something, you, find, that, you, dropped, someplace.]   \n",
       "\n",
       "                                                                                                                                       prd  \n",
       "0  [You, know, what, I, do, is, to, write, for, kids,, and, in, fact,, I, am, probably, the, author, for, kids,, you, read, in, the, U.S.]  \n",
       "1                                                       [And, I, always, tell, the, people, I, don't, want, to, look, like, a, scientist.]  \n",
       "2                                        [I, can, tell, you, as, a, farmer,, or, with, <unk>, and, never, nobody, has, chosen, a, farmer.]  \n",
       "3                                                                                        [I'm, here, to, talk, about, circles, and, <unk>]  \n",
       "4                                          [And, you, know, that, an, epiphany, is, generally, something, that, came, to, you, somewhere.]  "
      ]
     },
     "execution_count": 4,
     "metadata": {},
     "output_type": "execute_result"
    }
   ],
   "source": [
    "df.head()"
   ]
  },
  {
   "cell_type": "code",
   "execution_count": 5,
   "metadata": {},
   "outputs": [
    {
     "name": "stderr",
     "output_type": "stream",
     "text": [
      "/Users/neha.bora/anaconda3/envs/local_nmt/lib/python3.6/site-packages/nltk/translate/bleu_score.py:523: UserWarning: \n",
      "The hypothesis contains 0 counts of 4-gram overlaps.\n",
      "Therefore the BLEU score evaluates to 0, independently of\n",
      "how many N-gram overlaps of lower order it contains.\n",
      "Consider using lower n-gram order or use SmoothingFunction()\n",
      "  warnings.warn(_msg)\n",
      "/Users/neha.bora/anaconda3/envs/local_nmt/lib/python3.6/site-packages/nltk/translate/bleu_score.py:523: UserWarning: \n",
      "The hypothesis contains 0 counts of 3-gram overlaps.\n",
      "Therefore the BLEU score evaluates to 0, independently of\n",
      "how many N-gram overlaps of lower order it contains.\n",
      "Consider using lower n-gram order or use SmoothingFunction()\n",
      "  warnings.warn(_msg)\n",
      "/Users/neha.bora/anaconda3/envs/local_nmt/lib/python3.6/site-packages/nltk/translate/bleu_score.py:523: UserWarning: \n",
      "The hypothesis contains 0 counts of 2-gram overlaps.\n",
      "Therefore the BLEU score evaluates to 0, independently of\n",
      "how many N-gram overlaps of lower order it contains.\n",
      "Consider using lower n-gram order or use SmoothingFunction()\n",
      "  warnings.warn(_msg)\n"
     ]
    }
   ],
   "source": [
    "df[\"sentence_bleu\"] = df.apply(lambda row: sentence_bleu([row[\"src\"]], row[\"prd\"]), axis=1)"
   ]
  },
  {
   "cell_type": "code",
   "execution_count": 6,
   "metadata": {},
   "outputs": [],
   "source": [
    "df[\"en_length\"] = df[\"src\"].apply(lambda x: len(x))\n",
    "df[\"bleu_bkt\"] = pd.cut(df.sentence_bleu, bins=10, labels=[0,1,2,3,4,5,6,7,8,9])"
   ]
  },
  {
   "cell_type": "code",
   "execution_count": 7,
   "metadata": {},
   "outputs": [
    {
     "data": {
      "text/html": [
       "<div>\n",
       "<style scoped>\n",
       "    .dataframe tbody tr th:only-of-type {\n",
       "        vertical-align: middle;\n",
       "    }\n",
       "\n",
       "    .dataframe tbody tr th {\n",
       "        vertical-align: top;\n",
       "    }\n",
       "\n",
       "    .dataframe thead th {\n",
       "        text-align: right;\n",
       "    }\n",
       "</style>\n",
       "<table border=\"1\" class=\"dataframe\">\n",
       "  <thead>\n",
       "    <tr style=\"text-align: right;\">\n",
       "      <th></th>\n",
       "      <th>src</th>\n",
       "      <th>prd</th>\n",
       "      <th>sentence_bleu</th>\n",
       "      <th>en_length</th>\n",
       "      <th>bleu_bkt</th>\n",
       "    </tr>\n",
       "  </thead>\n",
       "  <tbody>\n",
       "    <tr>\n",
       "      <th>385</th>\n",
       "      <td>[And, really, you, do, the, same, thing.]</td>\n",
       "      <td>[And, actually,, you, do, the, same, thing.]</td>\n",
       "      <td>0.643459</td>\n",
       "      <td>7</td>\n",
       "      <td>6</td>\n",
       "    </tr>\n",
       "    <tr>\n",
       "      <th>399</th>\n",
       "      <td>[And, I've, never, seen, them.]</td>\n",
       "      <td>[And, I've, never, seen, it.]</td>\n",
       "      <td>0.668740</td>\n",
       "      <td>5</td>\n",
       "      <td>6</td>\n",
       "    </tr>\n",
       "    <tr>\n",
       "      <th>4437</th>\n",
       "      <td>[And, this, information, is, stored, for, at, least, six, months, in, Europe,, up, to, two, years.]</td>\n",
       "      <td>[And, this, information, is, stored, at, least, six, months, in, Europe,, and, to, two, years.]</td>\n",
       "      <td>0.616036</td>\n",
       "      <td>16</td>\n",
       "      <td>6</td>\n",
       "    </tr>\n",
       "    <tr>\n",
       "      <th>110</th>\n",
       "      <td>[In, many, cases,, people, are, actually, perfectly, healthy.]</td>\n",
       "      <td>[In, many, cases,, people, are, perfectly, healthy.]</td>\n",
       "      <td>0.612975</td>\n",
       "      <td>8</td>\n",
       "      <td>6</td>\n",
       "    </tr>\n",
       "    <tr>\n",
       "      <th>1052</th>\n",
       "      <td>[KF:, That's, a, great, question.]</td>\n",
       "      <td>[&lt;unk&gt;, That's, a, great, question.]</td>\n",
       "      <td>0.668740</td>\n",
       "      <td>5</td>\n",
       "      <td>6</td>\n",
       "    </tr>\n",
       "    <tr>\n",
       "      <th>6507</th>\n",
       "      <td>[On, that, final, handshake,, he, looked, at, me,, and, he, said,, \"Kevin,, I'm, sorry,, but, I, have, to, go.\"]</td>\n",
       "      <td>[On, the, end,, he, looked, at, me,, and, he, said,, &lt;unk&gt;, I'm, sorry,, but, I, have, to, go.\"]</td>\n",
       "      <td>0.629477</td>\n",
       "      <td>19</td>\n",
       "      <td>6</td>\n",
       "    </tr>\n",
       "    <tr>\n",
       "      <th>3530</th>\n",
       "      <td>[I, had, my, first, apartment,, my, first, little, green, American, Express, card,, and, I, had, a, very, big, secret.]</td>\n",
       "      <td>[I, had, my, first, apartment,, my, first, &lt;unk&gt;, green, &lt;unk&gt;, and, I, had, a, very, big, secret.]</td>\n",
       "      <td>0.629941</td>\n",
       "      <td>19</td>\n",
       "      <td>6</td>\n",
       "    </tr>\n",
       "    <tr>\n",
       "      <th>6900</th>\n",
       "      <td>[For, example,, here, we, see, it, successfully, playing, a, game, of, pong, against, itself,, illustrating, its, potential, for, gaming.]</td>\n",
       "      <td>[For, example,, here, we, see, it, successfully, playing, a, game, of, &lt;unk&gt;, against, itself,, &lt;unk&gt;, its, potential, for, play.]</td>\n",
       "      <td>0.650339</td>\n",
       "      <td>19</td>\n",
       "      <td>6</td>\n",
       "    </tr>\n",
       "    <tr>\n",
       "      <th>1206</th>\n",
       "      <td>[Here, you, see, a, sample, of, this, actual, attack, code.]</td>\n",
       "      <td>[Here, you, see, a, sample, of, this, code, code.]</td>\n",
       "      <td>0.671688</td>\n",
       "      <td>10</td>\n",
       "      <td>6</td>\n",
       "    </tr>\n",
       "    <tr>\n",
       "      <th>3164</th>\n",
       "      <td>[When, I, was, little,, I, thought, my, country, was, the, best, on, the, planet.]</td>\n",
       "      <td>[When, I, was, a, little,, I, thought, my, country, was, the, best, on, Earth.]</td>\n",
       "      <td>0.699752</td>\n",
       "      <td>14</td>\n",
       "      <td>6</td>\n",
       "    </tr>\n",
       "  </tbody>\n",
       "</table>\n",
       "</div>"
      ],
      "text/plain": [
       "                                                                                                                                             src  \\\n",
       "385                                                                                                    [And, really, you, do, the, same, thing.]   \n",
       "399                                                                                                              [And, I've, never, seen, them.]   \n",
       "4437                                         [And, this, information, is, stored, for, at, least, six, months, in, Europe,, up, to, two, years.]   \n",
       "110                                                                               [In, many, cases,, people, are, actually, perfectly, healthy.]   \n",
       "1052                                                                                                          [KF:, That's, a, great, question.]   \n",
       "6507                            [On, that, final, handshake,, he, looked, at, me,, and, he, said,, \"Kevin,, I'm, sorry,, but, I, have, to, go.\"]   \n",
       "3530                     [I, had, my, first, apartment,, my, first, little, green, American, Express, card,, and, I, had, a, very, big, secret.]   \n",
       "6900  [For, example,, here, we, see, it, successfully, playing, a, game, of, pong, against, itself,, illustrating, its, potential, for, gaming.]   \n",
       "1206                                                                                [Here, you, see, a, sample, of, this, actual, attack, code.]   \n",
       "3164                                                          [When, I, was, little,, I, thought, my, country, was, the, best, on, the, planet.]   \n",
       "\n",
       "                                                                                                                                     prd  \\\n",
       "385                                                                                         [And, actually,, you, do, the, same, thing.]   \n",
       "399                                                                                                        [And, I've, never, seen, it.]   \n",
       "4437                                     [And, this, information, is, stored, at, least, six, months, in, Europe,, and, to, two, years.]   \n",
       "110                                                                                 [In, many, cases,, people, are, perfectly, healthy.]   \n",
       "1052                                                                                                [<unk>, That's, a, great, question.]   \n",
       "6507                                    [On, the, end,, he, looked, at, me,, and, he, said,, <unk>, I'm, sorry,, but, I, have, to, go.\"]   \n",
       "3530                                 [I, had, my, first, apartment,, my, first, <unk>, green, <unk>, and, I, had, a, very, big, secret.]   \n",
       "6900  [For, example,, here, we, see, it, successfully, playing, a, game, of, <unk>, against, itself,, <unk>, its, potential, for, play.]   \n",
       "1206                                                                                  [Here, you, see, a, sample, of, this, code, code.]   \n",
       "3164                                                     [When, I, was, a, little,, I, thought, my, country, was, the, best, on, Earth.]   \n",
       "\n",
       "      sentence_bleu  en_length bleu_bkt  \n",
       "385        0.643459          7        6  \n",
       "399        0.668740          5        6  \n",
       "4437       0.616036         16        6  \n",
       "110        0.612975          8        6  \n",
       "1052       0.668740          5        6  \n",
       "6507       0.629477         19        6  \n",
       "3530       0.629941         19        6  \n",
       "6900       0.650339         19        6  \n",
       "1206       0.671688         10        6  \n",
       "3164       0.699752         14        6  "
      ]
     },
     "execution_count": 7,
     "metadata": {},
     "output_type": "execute_result"
    }
   ],
   "source": [
    "df[df[\"bleu_bkt\"]==6].sort_values(by=\"sentence_bleu\", ascending=True).sample(10)"
   ]
  },
  {
   "cell_type": "code",
   "execution_count": 8,
   "metadata": {},
   "outputs": [
    {
     "data": {
      "text/plain": [
       "<matplotlib.axes._subplots.AxesSubplot at 0x1a30028588>"
      ]
     },
     "execution_count": 8,
     "metadata": {},
     "output_type": "execute_result"
    },
    {
     "data": {
      "image/png": "[encoded data removed]",
      "text/plain": [
       "<Figure size 432x288 with 1 Axes>"
      ]
     },
     "metadata": {
      "needs_background": "light"
     },
     "output_type": "display_data"
    }
   ],
   "source": [
    "df.sentence_bleu.hist()"
   ]
  },
  {
   "cell_type": "code",
   "execution_count": 100,
   "metadata": {},
   "outputs": [],
   "source": []
  },
  {
   "cell_type": "code",
   "execution_count": 118,
   "metadata": {},
   "outputs": [
    {
     "data": {
      "text/html": [
       "<div>\n",
       "<style scoped>\n",
       "    .dataframe tbody tr th:only-of-type {\n",
       "        vertical-align: middle;\n",
       "    }\n",
       "\n",
       "    .dataframe tbody tr th {\n",
       "        vertical-align: top;\n",
       "    }\n",
       "\n",
       "    .dataframe thead th {\n",
       "        text-align: right;\n",
       "    }\n",
       "</style>\n",
       "<table border=\"1\" class=\"dataframe\">\n",
       "  <thead>\n",
       "    <tr style=\"text-align: right;\">\n",
       "      <th></th>\n",
       "      <th>sentence_bleu</th>\n",
       "      <th>en_length</th>\n",
       "    </tr>\n",
       "    <tr>\n",
       "      <th>bleu_bkt</th>\n",
       "      <th></th>\n",
       "      <th></th>\n",
       "    </tr>\n",
       "  </thead>\n",
       "  <tbody>\n",
       "    <tr>\n",
       "      <th>0</th>\n",
       "      <td>0.000501</td>\n",
       "      <td>11.889708</td>\n",
       "    </tr>\n",
       "    <tr>\n",
       "      <th>1</th>\n",
       "      <td>0.161897</td>\n",
       "      <td>27.398887</td>\n",
       "    </tr>\n",
       "    <tr>\n",
       "      <th>2</th>\n",
       "      <td>0.250776</td>\n",
       "      <td>22.311475</td>\n",
       "    </tr>\n",
       "    <tr>\n",
       "      <th>3</th>\n",
       "      <td>0.349501</td>\n",
       "      <td>21.027431</td>\n",
       "    </tr>\n",
       "    <tr>\n",
       "      <th>4</th>\n",
       "      <td>0.444358</td>\n",
       "      <td>18.236794</td>\n",
       "    </tr>\n",
       "    <tr>\n",
       "      <th>5</th>\n",
       "      <td>0.543959</td>\n",
       "      <td>15.836310</td>\n",
       "    </tr>\n",
       "    <tr>\n",
       "      <th>6</th>\n",
       "      <td>0.645271</td>\n",
       "      <td>13.333333</td>\n",
       "    </tr>\n",
       "    <tr>\n",
       "      <th>7</th>\n",
       "      <td>0.739945</td>\n",
       "      <td>12.968421</td>\n",
       "    </tr>\n",
       "    <tr>\n",
       "      <th>8</th>\n",
       "      <td>0.838678</td>\n",
       "      <td>11.185185</td>\n",
       "    </tr>\n",
       "    <tr>\n",
       "      <th>9</th>\n",
       "      <td>0.995930</td>\n",
       "      <td>6.790698</td>\n",
       "    </tr>\n",
       "  </tbody>\n",
       "</table>\n",
       "</div>"
      ],
      "text/plain": [
       "          sentence_bleu  en_length\n",
       "bleu_bkt                          \n",
       "0              0.000501  11.889708\n",
       "1              0.161897  27.398887\n",
       "2              0.250776  22.311475\n",
       "3              0.349501  21.027431\n",
       "4              0.444358  18.236794\n",
       "5              0.543959  15.836310\n",
       "6              0.645271  13.333333\n",
       "7              0.739945  12.968421\n",
       "8              0.838678  11.185185\n",
       "9              0.995930   6.790698"
      ]
     },
     "execution_count": 118,
     "metadata": {},
     "output_type": "execute_result"
    }
   ],
   "source": [
    "df.groupby(\"bleu_bkt\")[[\"sentence_bleu\",\"en_length\"]].mean()"
   ]
  },
  {
   "cell_type": "code",
   "execution_count": 117,
   "metadata": {},
   "outputs": [
    {
     "data": {
      "text/html": [
       "<div>\n",
       "<style scoped>\n",
       "    .dataframe tbody tr th:only-of-type {\n",
       "        vertical-align: middle;\n",
       "    }\n",
       "\n",
       "    .dataframe tbody tr th {\n",
       "        vertical-align: top;\n",
       "    }\n",
       "\n",
       "    .dataframe thead th {\n",
       "        text-align: right;\n",
       "    }\n",
       "</style>\n",
       "<table border=\"1\" class=\"dataframe\">\n",
       "  <thead>\n",
       "    <tr style=\"text-align: right;\">\n",
       "      <th></th>\n",
       "      <th>sentence_bleu</th>\n",
       "      <th>en_length</th>\n",
       "    </tr>\n",
       "  </thead>\n",
       "  <tbody>\n",
       "    <tr>\n",
       "      <th>sentence_bleu</th>\n",
       "      <td>1.000000</td>\n",
       "      <td>0.127854</td>\n",
       "    </tr>\n",
       "    <tr>\n",
       "      <th>en_length</th>\n",
       "      <td>0.127854</td>\n",
       "      <td>1.000000</td>\n",
       "    </tr>\n",
       "  </tbody>\n",
       "</table>\n",
       "</div>"
      ],
      "text/plain": [
       "               sentence_bleu  en_length\n",
       "sentence_bleu       1.000000   0.127854\n",
       "en_length           0.127854   1.000000"
      ]
     },
     "execution_count": 117,
     "metadata": {},
     "output_type": "execute_result"
    }
   ],
   "source": [
    "df.corr()"
   ]
  },
  {
   "cell_type": "code",
   "execution_count": 10,
   "metadata": {},
   "outputs": [],
   "source": [
    "r1 = \"love can always find a way\".split()\n",
    "r2 = \"love makes anything possible\".split()\n",
    "c1 = \"the love can always do\".split()\n",
    "c2 = \"love can make anything possible\".split()"
   ]
  },
  {
   "cell_type": "code",
   "execution_count": 11,
   "metadata": {},
   "outputs": [
    {
     "name": "stderr",
     "output_type": "stream",
     "text": [
      "/Users/neha.bora/anaconda3/envs/local_nmt/lib/python3.6/site-packages/nltk/translate/bleu_score.py:523: UserWarning: \n",
      "The hypothesis contains 0 counts of 4-gram overlaps.\n",
      "Therefore the BLEU score evaluates to 0, independently of\n",
      "how many N-gram overlaps of lower order it contains.\n",
      "Consider using lower n-gram order or use SmoothingFunction()\n",
      "  warnings.warn(_msg)\n"
     ]
    },
    {
     "data": {
      "text/plain": [
       "0.5477225575051662"
      ]
     },
     "execution_count": 11,
     "metadata": {},
     "output_type": "execute_result"
    }
   ],
   "source": [
    "sentence_bleu([r1,r2], c1, weights=(0.5,0.5,0,0))"
   ]
  },
  {
   "cell_type": "code",
   "execution_count": 12,
   "metadata": {},
   "outputs": [
    {
     "name": "stderr",
     "output_type": "stream",
     "text": [
      "/Users/neha.bora/anaconda3/envs/local_nmt/lib/python3.6/site-packages/nltk/translate/bleu_score.py:523: UserWarning: \n",
      "The hypothesis contains 0 counts of 3-gram overlaps.\n",
      "Therefore the BLEU score evaluates to 0, independently of\n",
      "how many N-gram overlaps of lower order it contains.\n",
      "Consider using lower n-gram order or use SmoothingFunction()\n",
      "  warnings.warn(_msg)\n"
     ]
    },
    {
     "data": {
      "text/plain": [
       "0.6324555320336759"
      ]
     },
     "execution_count": 12,
     "metadata": {},
     "output_type": "execute_result"
    }
   ],
   "source": [
    "sentence_bleu([r1,r2], c2, weights=(0.5,0.5,0,0))"
   ]
  },
  {
   "cell_type": "code",
   "execution_count": 130,
   "metadata": {},
   "outputs": [
    {
     "data": {
      "text/plain": [
       "0.5477225575051662"
      ]
     },
     "execution_count": 130,
     "metadata": {},
     "output_type": "execute_result"
    }
   ],
   "source": [
    "import math\n",
    "math.exp(0.5*math.log(3/5) + 0.5*math.log(0.5))"
   ]
  },
  {
   "cell_type": "markdown",
   "metadata": {},
   "source": [
    "I think c2 is better translation than c1. I agree with BLEU score here"
   ]
  },
  {
   "cell_type": "code",
   "execution_count": 13,
   "metadata": {},
   "outputs": [
    {
     "data": {
      "text/plain": [
       "(0.448437301984003, 0.25890539701513365)"
      ]
     },
     "execution_count": 13,
     "metadata": {},
     "output_type": "execute_result"
    }
   ],
   "source": [
    "sentence_bleu([r1], c1, weights=(0.5,0.5,0,0)) , sentence_bleu([r1], c2, weights=(0.5,0.5,0,0))"
   ]
  },
  {
   "cell_type": "markdown",
   "metadata": {},
   "source": [
    "Do not agree with the above BLEU score recommendation for better translation"
   ]
  },
  {
   "cell_type": "code",
   "execution_count": null,
   "metadata": {},
   "outputs": [],
   "source": []
  },
  {
   "cell_type": "code",
   "execution_count": null,
   "metadata": {},
   "outputs": [],
   "source": []
  }
 ],
 "metadata": {
  "kernelspec": {
   "display_name": "Python 3",
   "language": "python",
   "name": "python3"
  },
  "language_info": {
   "codemirror_mode": {
    "name": "ipython",
    "version": 3
   },
   "file_extension": ".py",
   "mimetype": "text/x-python",
   "name": "python",
   "nbconvert_exporter": "python",
   "pygments_lexer": "ipython3",
   "version": "3.6.10"
  }
 },
 "nbformat": 4,
 "nbformat_minor": 4
}
